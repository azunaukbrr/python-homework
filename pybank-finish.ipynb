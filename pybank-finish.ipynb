{
 "metadata": {
  "language_info": {
   "codemirror_mode": {
    "name": "ipython",
    "version": 3
   },
   "file_extension": ".py",
   "mimetype": "text/x-python",
   "name": "python",
   "nbconvert_exporter": "python",
   "pygments_lexer": "ipython3",
   "version": "3.9.2-final"
  },
  "orig_nbformat": 2,
  "kernelspec": {
   "name": "python3",
   "display_name": "Python 3.9.2 64-bit",
   "metadata": {
    "interpreter": {
     "hash": "ba517d8cc1ac3e7bc070e3674d3f528d32a9862679a7fe2d6450abd1ff4448a7"
    }
   }
  }
 },
 "nbformat": 4,
 "nbformat_minor": 2,
 "cells": [
  {
   "cell_type": "code",
   "execution_count": 15,
   "metadata": {},
   "outputs": [
    {
     "output_type": "stream",
     "name": "stdout",
     "text": [
      "Financial Analysis\nTotal Months: 86\nTotal Net Profit (Loss): $38382578.0\nAverage Change: $-2315.12\nGreatest Increase in Profits: $ 1926159.0 in Feb-2012\nGreatest Decrease in Profits: $ -2196167.0 in Sep-2013\n"
     ]
    }
   ],
   "source": [
    "import pathlib as path\n",
    "import csv\n",
    "\n",
    "with open('Resources/budget_data.csv', 'r') as budget_data_file:\n",
    "    budget_data = csv.reader(budget_data_file, delimiter=',')\n",
    "\n",
    "    header = next(budget_data)\n",
    "\n",
    "    pnlamount_count = 0\n",
    "    pnlamount_sum = 0\n",
    "    pnlamount_change = []\n",
    "    pnlamount_date = []\n",
    "    pnlamount= []\n",
    "    min_pnlamount_change = 0\n",
    "    max_pnlamount_change = 0\n",
    "    pnlamount_change_avg = 0\n",
    "    min_month = 0\n",
    "    max_month = 0\n",
    "\n",
    "\n",
    "\n",
    "    for line in budget_data:\n",
    "        pnlamount_date.append(line[0])\n",
    "        pnlamount.append(float(line[1]))\n",
    "        pnlamount_count = len(pnlamount_date)\n",
    "        pnlamount_sum = sum(pnlamount)\n",
    "\n",
    "    for row in range(1, len(pnlamount)):\n",
    "        pnlamount_change.append(pnlamount[row] - pnlamount[row-1])\n",
    "\n",
    "\n",
    "\n",
    "    min_pnlamount_change = min(pnlamount_change)\n",
    "    max_pnlamount_change = max(pnlamount_change)\n",
    "\n",
    "\n",
    "    pnlamount_change_avg = round((sum(pnlamount_change) / len(pnlamount_change)), 2)\n",
    "\n",
    "    pnlamount_change.insert(0, 6)\n",
    "\n",
    "    min_month = pnlamount_date[(pnlamount_change.index(min_pnlamount_change))]\n",
    "    max_month = pnlamount_date[(pnlamount_change.index(max_pnlamount_change))]\n",
    "\n",
    "\n",
    "    print(\"Financial Analysis\")\n",
    "    print(\"Total Months: \" + str(pnlamount_count))\n",
    "    print(\"Total Net Profit (Loss): $\" + str(pnlamount_sum))\n",
    "    print (\"Average Change: $\" + str(pnlamount_change_avg))\n",
    "    print(f\"Greatest Increase in Profits: $ {str(max_pnlamount_change)} in {(max_month)}\")\n",
    "    print(f\"Greatest Decrease in Profits: $ {str(min_pnlamount_change)} in {(min_month)}\")\n",
    "\n",
    "    file_out = open(\"output.txt\",\"w\")\n",
    "    file_out.write(f\"Financial Analysis\\n\")\n",
    "    file_out.write(f\"Total Months: {str(pnlamount_count)} \\n\")\n",
    "    file_out.write(f\"Total Net Profit (Loss): ${str(pnlamount_sum)}\\n\")\n",
    "    file_out.write(f\"Average Change: $ {str(pnlamount_change_avg)}\\n\")\n",
    "    file_out.write(f\"Greatest Increase in Profits: $ {str(max_pnlamount_change)} in {(max_month)} \\n\")\n",
    "    file_out.write(f\"Greatest Decrease in Profits: $ {str(min_pnlamount_change)} in {(min_month)} \\n\")\n",
    "\n"
   ]
  },
  {
   "cell_type": "code",
   "execution_count": null,
   "metadata": {},
   "outputs": [],
   "source": []
  }
 ]
}